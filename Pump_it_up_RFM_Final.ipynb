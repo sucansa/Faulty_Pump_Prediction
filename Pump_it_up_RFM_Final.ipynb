{
  "nbformat": 4,
  "nbformat_minor": 0,
  "metadata": {
    "colab": {
      "name": "Pump_it_up_RFM-Final.ipynb",
      "provenance": []
    },
    "kernelspec": {
      "display_name": "Python 3",
      "language": "python",
      "name": "python3"
    },
    "language_info": {
      "codemirror_mode": {
        "name": "ipython",
        "version": 3
      },
      "file_extension": ".py",
      "mimetype": "text/x-python",
      "name": "python",
      "nbconvert_exporter": "python",
      "pygments_lexer": "ipython3",
      "version": "3.6.5"
    }
  },
  "cells": [
    {
      "cell_type": "code",
      "metadata": {
        "id": "Qp-J1IfrhkxL"
      },
      "source": [
        "# ****************************************************** Version 4************************************************\n",
        "# Training set into train and validation set\n",
        "# Fixed Balancing issues\n",
        "# Additional Feature Engineering-Applied log\n"
      ],
      "execution_count": null,
      "outputs": []
    },
    {
      "cell_type": "code",
      "metadata": {
        "colab": {
          "base_uri": "https://localhost:8080/"
        },
        "id": "nwxUqKhg7NVn",
        "outputId": "ecfe9d3d-03f0-42c7-cda1-88af5da654ed"
      },
      "source": [
        "import pandas as pd\n",
        "!pip install category_encoders\n",
        "#from category_encoders import TargetEncoder\n",
        "import numpy as np\n",
        "import seaborn as sns\n",
        "#from google.colab import files\n",
        "from datetime import datetime, date, timedelta\n",
        "from sklearn.preprocessing import LabelEncoder\n",
        "from sklearn.model_selection import train_test_split\n",
        "\n",
        "\n",
        "pd.set_option('display.max_columns', 1000)"
      ],
      "execution_count": null,
      "outputs": [
        {
          "output_type": "stream",
          "name": "stdout",
          "text": [
            "Collecting category_encoders\n",
            "  Downloading category_encoders-2.3.0-py2.py3-none-any.whl (82 kB)\n",
            "\u001b[?25l\r\u001b[K     |████                            | 10 kB 17.4 MB/s eta 0:00:01\r\u001b[K     |████████                        | 20 kB 22.9 MB/s eta 0:00:01\r\u001b[K     |████████████                    | 30 kB 12.6 MB/s eta 0:00:01\r\u001b[K     |████████████████                | 40 kB 9.5 MB/s eta 0:00:01\r\u001b[K     |████████████████████            | 51 kB 5.1 MB/s eta 0:00:01\r\u001b[K     |████████████████████████        | 61 kB 5.7 MB/s eta 0:00:01\r\u001b[K     |████████████████████████████    | 71 kB 5.4 MB/s eta 0:00:01\r\u001b[K     |███████████████████████████████▉| 81 kB 6.1 MB/s eta 0:00:01\r\u001b[K     |████████████████████████████████| 82 kB 353 kB/s \n",
            "\u001b[?25hRequirement already satisfied: pandas>=0.21.1 in /usr/local/lib/python3.7/dist-packages (from category_encoders) (1.1.5)\n",
            "Requirement already satisfied: scipy>=1.0.0 in /usr/local/lib/python3.7/dist-packages (from category_encoders) (1.4.1)\n",
            "Requirement already satisfied: statsmodels>=0.9.0 in /usr/local/lib/python3.7/dist-packages (from category_encoders) (0.10.2)\n",
            "Requirement already satisfied: numpy>=1.14.0 in /usr/local/lib/python3.7/dist-packages (from category_encoders) (1.19.5)\n",
            "Requirement already satisfied: scikit-learn>=0.20.0 in /usr/local/lib/python3.7/dist-packages (from category_encoders) (1.0.1)\n",
            "Requirement already satisfied: patsy>=0.5.1 in /usr/local/lib/python3.7/dist-packages (from category_encoders) (0.5.2)\n",
            "Requirement already satisfied: python-dateutil>=2.7.3 in /usr/local/lib/python3.7/dist-packages (from pandas>=0.21.1->category_encoders) (2.8.2)\n",
            "Requirement already satisfied: pytz>=2017.2 in /usr/local/lib/python3.7/dist-packages (from pandas>=0.21.1->category_encoders) (2018.9)\n",
            "Requirement already satisfied: six in /usr/local/lib/python3.7/dist-packages (from patsy>=0.5.1->category_encoders) (1.15.0)\n",
            "Requirement already satisfied: threadpoolctl>=2.0.0 in /usr/local/lib/python3.7/dist-packages (from scikit-learn>=0.20.0->category_encoders) (3.0.0)\n",
            "Requirement already satisfied: joblib>=0.11 in /usr/local/lib/python3.7/dist-packages (from scikit-learn>=0.20.0->category_encoders) (1.1.0)\n",
            "Installing collected packages: category-encoders\n",
            "Successfully installed category-encoders-2.3.0\n"
          ]
        }
      ]
    },
    {
      "cell_type": "code",
      "metadata": {
        "id": "3P1Xces-S2lE"
      },
      "source": [
        "df = pd.read_csv('Train-OOF.csv')\n",
        "df_test = pd.read_csv('Test-OOF.csv')"
      ],
      "execution_count": null,
      "outputs": []
    },
    {
      "cell_type": "code",
      "metadata": {
        "id": "PpFavig8TKOM"
      },
      "source": [
        "cat_features=[x for x in df.columns if df[x].dtype==\"object\"]\n",
        "\n",
        "le=LabelEncoder()\n",
        "\n",
        "for col in cat_features:\n",
        "    if col in df.columns:\n",
        "        i = df.columns.get_loc(col)\n",
        "        df.iloc[:,i] = df.apply(lambda i:le.fit_transform(i.astype(str)), axis=0, result_type='expand')\n",
        "\n",
        "cat_features1=[x for x in df_test.columns if df_test[x].dtype==\"object\"]\n",
        "\n",
        "le=LabelEncoder()\n",
        "\n",
        "for col in cat_features:\n",
        "    if col in df_test.columns:\n",
        "        i = df_test.columns.get_loc(col)\n",
        "        df_test.iloc[:,i] = df_test.apply(lambda i:le.fit_transform(i.astype(str)), axis=0, result_type='expand')"
      ],
      "execution_count": null,
      "outputs": []
    },
    {
      "cell_type": "code",
      "metadata": {
        "id": "rlRTXiLpTMLu"
      },
      "source": [
        ""
      ],
      "execution_count": null,
      "outputs": []
    },
    {
      "cell_type": "code",
      "metadata": {
        "id": "2W4D8J1TTOmd"
      },
      "source": [
        "X = df.drop(columns = ['id', 'status_group']).values\n",
        "y = df['status_group'].values\n"
      ],
      "execution_count": null,
      "outputs": []
    },
    {
      "cell_type": "code",
      "metadata": {
        "id": "omOlhdAAoq7b"
      },
      "source": [
        "xtrain, xtest, ytrain, ytest = train_test_split(X, y, test_size=0.25, random_state=3)"
      ],
      "execution_count": null,
      "outputs": []
    },
    {
      "cell_type": "code",
      "metadata": {
        "id": "FRu_v9nhozu5"
      },
      "source": [
        "from sklearn.ensemble import RandomForestClassifier\n",
        "rfc = RandomForestClassifier(criterion='entropy', max_depth=None).fit(xtrain, ytrain)"
      ],
      "execution_count": null,
      "outputs": []
    },
    {
      "cell_type": "code",
      "metadata": {
        "id": "LW8ARNtuTptt"
      },
      "source": [
        "yhatRF = rfc.predict(xtest)"
      ],
      "execution_count": null,
      "outputs": []
    },
    {
      "cell_type": "code",
      "metadata": {
        "colab": {
          "base_uri": "https://localhost:8080/"
        },
        "id": "7eOCweUCTtyF",
        "outputId": "e11b9625-e117-49ed-a8d1-3bfb715d64ce"
      },
      "source": [
        "from sklearn import metrics #Import scikit-learn metrics module for accuracy calculation\n",
        "from sklearn import preprocessing\n",
        "from sklearn.metrics import precision_score, recall_score, confusion_matrix, classification_report, accuracy_score, f1_score\n",
        "print('Train set Accuracy: ', metrics.accuracy_score(ytrain, rfc.predict(xtrain)))\n",
        "print('Test set Accuracy: ', metrics.accuracy_score(ytest, yhatRF))"
      ],
      "execution_count": null,
      "outputs": [
        {
          "output_type": "stream",
          "name": "stdout",
          "text": [
            "Train set Accuracy:  0.9999102132435466\n",
            "Test set Accuracy:  0.815016835016835\n"
          ]
        }
      ]
    },
    {
      "cell_type": "code",
      "metadata": {
        "id": "cNLtYxv3UOnj"
      },
      "source": [
        "from sklearn.model_selection import GridSearchCV\n",
        "rfc_params = {'n_estimators':[2,5,10,20,50,75,150],\n",
        "              'criterion':['gini', 'entropy'],\n",
        "              'max_depth':[2,5,10,20,50,None],\n",
        "              'class_weight':['balanced',None],\n",
        "              'min_samples_split':[2,5,10,20]}\n",
        "\n",
        "\n",
        "grid_rfc = GridSearchCV(RandomForestClassifier(), \n",
        "                        rfc_params, \n",
        "                        cv=5, \n",
        "                        scoring='accuracy').fit(xtrain, ytrain)"
      ],
      "execution_count": null,
      "outputs": []
    },
    {
      "cell_type": "code",
      "metadata": {
        "id": "dHhYwmGHUiNq"
      },
      "source": [
        "ypred = grid_rfc.predict(xtest)"
      ],
      "execution_count": null,
      "outputs": []
    },
    {
      "cell_type": "code",
      "metadata": {
        "id": "y8YZ6gPJUlJy",
        "colab": {
          "base_uri": "https://localhost:8080/"
        },
        "outputId": "dc8b97fd-5f7b-4a21-edfb-3032a1b558f6"
      },
      "source": [
        "print('Train set Accuracy: ', metrics.accuracy_score(ytrain, grid_rfc.predict(xtrain)))\n",
        "print('Test set Accuracy: ', metrics.accuracy_score(ytest, ypred))"
      ],
      "execution_count": null,
      "outputs": [
        {
          "output_type": "stream",
          "name": "stdout",
          "text": [
            "Train set Accuracy:  0.9694500561167227\n",
            "Test set Accuracy:  0.8185185185185185\n"
          ]
        }
      ]
    },
    {
      "cell_type": "code",
      "metadata": {
        "id": "lVD-z7d6vCf4",
        "colab": {
          "base_uri": "https://localhost:8080/"
        },
        "outputId": "67115ee9-f527-43e1-943c-078c31759d4b"
      },
      "source": [
        "y_pred1 = grid_rfc.predict(xtrain)\n",
        "y_pred1"
      ],
      "execution_count": null,
      "outputs": [
        {
          "output_type": "execute_result",
          "data": {
            "text/plain": [
              "array([0, 2, 0, ..., 0, 2, 0])"
            ]
          },
          "metadata": {},
          "execution_count": 14
        }
      ]
    },
    {
      "cell_type": "code",
      "metadata": {
        "id": "bC1BV9BnUrQJ",
        "colab": {
          "base_uri": "https://localhost:8080/"
        },
        "outputId": "0bdc9483-0466-4a2a-a4cf-c2a979b2f71e"
      },
      "source": [
        "print('Train set classification report: ')\n",
        "print(classification_report(ytrain, y_pred1))\n",
        "print('Validation test set classification report: ')\n",
        "print(classification_report(ytest, ypred))"
      ],
      "execution_count": null,
      "outputs": [
        {
          "output_type": "stream",
          "name": "stdout",
          "text": [
            "Train set classification report: \n",
            "              precision    recall  f1-score   support\n",
            "\n",
            "           0       0.96      0.99      0.98     24251\n",
            "           1       0.97      0.82      0.89      3255\n",
            "           2       0.98      0.97      0.97     17044\n",
            "\n",
            "    accuracy                           0.97     44550\n",
            "   macro avg       0.97      0.93      0.95     44550\n",
            "weighted avg       0.97      0.97      0.97     44550\n",
            "\n",
            "Validation test set classification report: \n",
            "              precision    recall  f1-score   support\n",
            "\n",
            "           0       0.81      0.90      0.85      8008\n",
            "           1       0.61      0.34      0.44      1062\n",
            "           2       0.85      0.79      0.82      5780\n",
            "\n",
            "    accuracy                           0.82     14850\n",
            "   macro avg       0.76      0.68      0.70     14850\n",
            "weighted avg       0.81      0.82      0.81     14850\n",
            "\n"
          ]
        }
      ]
    },
    {
      "cell_type": "code",
      "metadata": {
        "id": "xK_LOnosjz7e",
        "colab": {
          "base_uri": "https://localhost:8080/",
          "height": 315
        },
        "outputId": "7cf68ad3-220b-40cf-a4de-a45d44c11886"
      },
      "source": [
        "from mlxtend.evaluate import confusion_matrix\n",
        "from mlxtend.plotting import plot_confusion_matrix\n",
        "from sklearn.metrics import accuracy_score\n",
        "import matplotlib.pyplot as plt\n",
        "\n",
        "print(\"Train set Accuracy Score: \", accuracy_score(ytrain, y_pred1))\n",
        "print(\"Test set Accuracy Score: \", accuracy_score(ytest, ypred))\n",
        "cm = confusion_matrix(ytest, ypred.flatten())\n",
        "plot_confusion_matrix(cm)\n",
        "plt.show()"
      ],
      "execution_count": null,
      "outputs": [
        {
          "output_type": "stream",
          "name": "stdout",
          "text": [
            "Train set Accuracy Score:  0.9694500561167227\n",
            "Test set Accuracy Score:  0.8185185185185185\n"
          ]
        },
        {
          "output_type": "display_data",
          "data": {
            "image/png": "[encoded data removed]",
            "text/plain": [
              "<Figure size 432x288 with 1 Axes>"
            ]
          },
          "metadata": {
            "needs_background": "light"
          }
        }
      ]
    },
    {
      "cell_type": "code",
      "metadata": {
        "id": "ax44LM0VU00Z"
      },
      "source": [
        "X2 = df_test.drop(columns = ['id']).values"
      ],
      "execution_count": null,
      "outputs": []
    },
    {
      "cell_type": "code",
      "metadata": {
        "id": "AgKSk8NHU15-"
      },
      "source": [
        "yhat2 = grid_rfc.predict(X2)"
      ],
      "execution_count": null,
      "outputs": []
    },
    {
      "cell_type": "code",
      "metadata": {
        "id": "Yn-3M-DMU5MJ"
      },
      "source": [
        "preds = pd.DataFrame(yhat2)"
      ],
      "execution_count": null,
      "outputs": []
    },
    {
      "cell_type": "code",
      "metadata": {
        "id": "HDwpT2kkU6rR"
      },
      "source": [
        "preds.head()"
      ],
      "execution_count": null,
      "outputs": []
    },
    {
      "cell_type": "code",
      "metadata": {
        "id": "B5pjaRNiU89Z"
      },
      "source": [
        "RFM = pd.DataFrame({'Id': df_test.id, 'status_group': yhat2})\n",
        "RFM.to_csv('RFM-tuning.csv', index=False)"
      ],
      "execution_count": null,
      "outputs": []
    },
    {
      "cell_type": "code",
      "metadata": {
        "id": "bPpQxRj9VDI4",
        "colab": {
          "base_uri": "https://localhost:8080/",
          "height": 17
        },
        "outputId": "a39be21c-6f5a-475e-d18a-c7c7613dd998"
      },
      "source": [
        "from google.colab import files\n",
        "files.download('RFM-tuning.csv')"
      ],
      "execution_count": null,
      "outputs": [
        {
          "output_type": "display_data",
          "data": {
            "application/javascript": [
              "\n",
              "    async function download(id, filename, size) {\n",
              "      if (!google.colab.kernel.accessAllowed) {\n",
              "        return;\n",
              "      }\n",
              "      const div = document.createElement('div');\n",
              "      const label = document.createElement('label');\n",
              "      label.textContent = `Downloading \"${filename}\": `;\n",
              "      div.appendChild(label);\n",
              "      const progress = document.createElement('progress');\n",
              "      progress.max = size;\n",
              "      div.appendChild(progress);\n",
              "      document.body.appendChild(div);\n",
              "\n",
              "      const buffers = [];\n",
              "      let downloaded = 0;\n",
              "\n",
              "      const channel = await google.colab.kernel.comms.open(id);\n",
              "      // Send a message to notify the kernel that we're ready.\n",
              "      channel.send({})\n",
              "\n",
              "      for await (const message of channel.messages) {\n",
              "        // Send a message to notify the kernel that we're ready.\n",
              "        channel.send({})\n",
              "        if (message.buffers) {\n",
              "          for (const buffer of message.buffers) {\n",
              "            buffers.push(buffer);\n",
              "            downloaded += buffer.byteLength;\n",
              "            progress.value = downloaded;\n",
              "          }\n",
              "        }\n",
              "      }\n",
              "      const blob = new Blob(buffers, {type: 'application/binary'});\n",
              "      const a = document.createElement('a');\n",
              "      a.href = window.URL.createObjectURL(blob);\n",
              "      a.download = filename;\n",
              "      div.appendChild(a);\n",
              "      a.click();\n",
              "      div.remove();\n",
              "    }\n",
              "  "
            ],
            "text/plain": [
              "<IPython.core.display.Javascript object>"
            ]
          },
          "metadata": {}
        },
        {
          "output_type": "display_data",
          "data": {
            "application/javascript": [
              "download(\"download_7e310d33-28b4-42ae-a27c-427195220d51\", \"RFM-tuning.csv\", 116612)"
            ],
            "text/plain": [
              "<IPython.core.display.Javascript object>"
            ]
          },
          "metadata": {}
        }
      ]
    }
  ]
}